{
 "cells": [
  {
   "cell_type": "code",
   "execution_count": 1,
   "metadata": {},
   "outputs": [],
   "source": [
    "def hello_world():\n",
    "    print('Hello world')"
   ]
  },
  {
   "cell_type": "code",
   "execution_count": 2,
   "metadata": {},
   "outputs": [
    {
     "name": "stdout",
     "output_type": "stream",
     "text": [
      "Hello world\n"
     ]
    }
   ],
   "source": [
    "hello_world()"
   ]
  },
  {
   "cell_type": "code",
   "execution_count": 6,
   "metadata": {},
   "outputs": [],
   "source": [
    "import math\n",
    "\n",
    "def circle_area(diameter):\n",
    "    area = math.pow(diameter / 2, 2) * math.pi\n",
    "    return area"
   ]
  },
  {
   "cell_type": "code",
   "execution_count": 8,
   "metadata": {},
   "outputs": [],
   "source": [
    "circle_1_area = circle_area(2)\n",
    "circle_2_area = circle_area(5)\n",
    "square = 4 * 4\n",
    "rectangle = 3 * 5"
   ]
  },
  {
   "cell_type": "code",
   "execution_count": 13,
   "metadata": {},
   "outputs": [],
   "source": [
    "class Circle:\n",
    "    def __init__(self, diameter):\n",
    "        self.radius = diameter / 2\n",
    "    \n",
    "    def area(self):\n",
    "        return math.pow(self.radius, 2) * math.pi\n",
    "    \n",
    "    def __str__(self):\n",
    "        return f'Circle with radius {self.radius}'"
   ]
  },
  {
   "cell_type": "code",
   "execution_count": 14,
   "metadata": {},
   "outputs": [
    {
     "name": "stdout",
     "output_type": "stream",
     "text": [
      "Circle with radius 1.0\n",
      "3.141592653589793\n"
     ]
    }
   ],
   "source": [
    "example_circle = Circle(2)\n",
    "print(example_circle)\n",
    "print(example_circle.area())"
   ]
  },
  {
   "cell_type": "code",
   "execution_count": 22,
   "metadata": {},
   "outputs": [],
   "source": [
    "class Rectangle:\n",
    "    def __init__(self, width, height):\n",
    "        self.width = width\n",
    "        self.height = height\n",
    "    \n",
    "    def area(self):\n",
    "        return self.width * self.height\n",
    "    \n",
    "    def __str__(self):\n",
    "        return f'Rectangle of {self.width} x {self.height}'"
   ]
  },
  {
   "cell_type": "code",
   "execution_count": 18,
   "metadata": {},
   "outputs": [
    {
     "name": "stdout",
     "output_type": "stream",
     "text": [
      "Rectangle of 3 x 4 (area 12)\n",
      "12\n"
     ]
    }
   ],
   "source": [
    "example_rect = Rectangle(3, 4)\n",
    "print(example_rect)\n",
    "print(example_rect.area())"
   ]
  },
  {
   "cell_type": "code",
   "execution_count": 23,
   "metadata": {},
   "outputs": [],
   "source": [
    "class Square(Rectangle):\n",
    "    def __init__(self, side):\n",
    "        self.width = side\n",
    "        self.height = side"
   ]
  },
  {
   "cell_type": "code",
   "execution_count": 20,
   "metadata": {},
   "outputs": [
    {
     "name": "stdout",
     "output_type": "stream",
     "text": [
      "16\n"
     ]
    }
   ],
   "source": [
    "example_square = Square(4)\n",
    "print(example_square.area())"
   ]
  },
  {
   "cell_type": "code",
   "execution_count": 24,
   "metadata": {},
   "outputs": [
    {
     "name": "stdout",
     "output_type": "stream",
     "text": [
      "Circle with radius 1.0: 3.141592653589793\n",
      "Circle with radius 2.5: 19.634954084936208\n",
      "Rectangle of 4 x 4: 16\n",
      "Rectangle of 3 x 5: 15\n"
     ]
    }
   ],
   "source": [
    "shapes = [\n",
    "    Circle(2),\n",
    "    Circle(5),\n",
    "    Square(4),\n",
    "    Rectangle(3, 5)\n",
    "]\n",
    "\n",
    "for shape in shapes:\n",
    "    print(f'{shape}: {shape.area()}')"
   ]
  }
 ],
 "metadata": {
  "interpreter": {
   "hash": "78062bdde48a7104f4d3ea9a7117bceb40f968c4f67e55b98361572a14e9d17b"
  },
  "kernelspec": {
   "display_name": "Python 3.9.1 64-bit",
   "language": "python",
   "name": "python3"
  },
  "language_info": {
   "codemirror_mode": {
    "name": "ipython",
    "version": 3
   },
   "file_extension": ".py",
   "mimetype": "text/x-python",
   "name": "python",
   "nbconvert_exporter": "python",
   "pygments_lexer": "ipython3",
   "version": "3.9.1"
  },
  "orig_nbformat": 4
 },
 "nbformat": 4,
 "nbformat_minor": 2
}
